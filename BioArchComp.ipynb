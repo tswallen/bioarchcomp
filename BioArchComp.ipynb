{
 "cells": [
  {
   "attachments": {},
   "cell_type": "markdown",
   "metadata": {},
   "source": [
    "# BioArchComp\n",
    "*Biological Architecture Composer*"
   ]
  },
  {
   "cell_type": "code",
   "execution_count": null,
   "metadata": {},
   "outputs": [],
   "source": [
    "%pip ins111tall matplotlib\n",
    "%pip install numpy"
   ]
  },
  {
   "cell_type": "code",
   "execution_count": null,
   "metadata": {},
   "outputs": [],
   "source": [
    "import matplotlib"
   ]
  },
  {
   "cell_type": "code",
   "execution_count": null,
   "metadata": {},
   "outputs": [],
   "source": [
    "import matplotlib.pyplot as plt\n",
    "import numpy as np"
   ]
  },
  {
   "cell_type": "code",
   "execution_count": null,
   "metadata": {},
   "outputs": [],
   "source": [
    "# Initialize a blank figure and axes object measuring 100x100\n",
    "fig, ax = plt.subplots(figsize=(10, 10))\n",
    "\n",
    "# Plot a circle of radius 3\n",
    "ax.add_patch(plt.Circle((0, 0), 1, color='b', alpha=0.5))\n",
    "\n",
    "# Display the figure\n",
    "plt.show()\n"
   ]
  },
  {
   "cell_type": "code",
   "execution_count": null,
   "metadata": {},
   "outputs": [],
   "source": [
    "#Initialize a 100x100 matrix of zeros\n",
    "matrix = np.zeros((100, 100))\n",
    "\n",
    "n = 2\n",
    "\n",
    "# add a single point in the center\n",
    "matrix[50, 50] = 0\n",
    "\n",
    "# Add a 1px border around the point\n",
    "matrix[50-1:50+2, 50-1:50+2] = 1\n",
    "\n",
    "matrix[50, 50] = 0\n",
    "\n",
    "# Add a subplot which is a grid with lines every .1 unit\n",
    "ax = plt.subplot(111)\n",
    "ax.grid(which='major', axis='both', linestyle='-', color='k', linewidth=0.1)\n",
    "\n",
    "# Make the axis intervals 1 units\n",
    "ax.set_xticks(np.arange(0, 100, 1));\n",
    "ax.set_yticks(np.arange(0, 100, 1));\n",
    "\n",
    "\n",
    "# Plot the matrix\n",
    "plt.imshow(matrix, cmap='Greys', interpolation='nearest')\n",
    "\n",
    "# Display the figure with a size of 1000px by 1000px\n",
    "plt.gcf().set_size_inches(10, 10)\n",
    "plt.show()\n"
   ]
  }
 ],
 "metadata": {
  "kernelspec": {
   "display_name": "Python 3",
   "language": "python",
   "name": "python3"
  },
  "language_info": {
   "codemirror_mode": {
    "name": "ipython",
    "version": 3
   },
   "file_extension": ".py",
   "mimetype": "text/x-python",
   "name": "python",
   "nbconvert_exporter": "python",
   "pygments_lexer": "ipython3",
   "version": "3.9.2"
  },
  "orig_nbformat": 4
 },
 "nbformat": 4,
 "nbformat_minor": 2
}
